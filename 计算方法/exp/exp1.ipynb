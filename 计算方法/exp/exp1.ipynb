{
 "cells": [
  {
   "cell_type": "markdown",
   "metadata": {},
   "source": [
    "# 用牛顿法求下列方程的根\n",
    "- $x^2-e^x=0$\n",
    "- $xe^x-1=0$\n",
    "- $\\lg x+x-2=0$"
   ]
  },
  {
   "cell_type": "code",
   "execution_count": 24,
   "metadata": {},
   "outputs": [],
   "source": [
    "import math\n",
    "def f1(x):\n",
    "    if (2*x-math.exp(x) == 0):\n",
    "        return \"error\"\n",
    "    else:\n",
    "        return x-(x*x-math.exp(x))/(2*x-math.exp(x))\n",
    "\n",
    "def f2(x):\n",
    "    if ((x+1)*math.exp(x) == 0):\n",
    "        return \"error\"\n",
    "    else:\n",
    "        return x-(x*math.exp(x)-1)/((x+1)*math.exp(x))\n",
    "\n",
    "def f3(x):\n",
    "    if (x <= 0):\n",
    "        return \"error\"\n",
    "    if (1/(x*math.log(10))+1 == 0):\n",
    "        return \"error\"\n",
    "    else:\n",
    "        return x-(math.log(x)/math.log(10)+x-2)/(1/(x*math.log(10))+1)"
   ]
  },
  {
   "cell_type": "code",
   "execution_count": 26,
   "metadata": {},
   "outputs": [
    {
     "data": {
      "text/plain": [
       "1.6972068934358862"
      ]
     },
     "execution_count": 26,
     "metadata": {},
     "output_type": "execute_result"
    }
   ],
   "source": [
    "f3(1)"
   ]
  },
  {
   "cell_type": "code",
   "execution_count": 30,
   "metadata": {
    "scrolled": true
   },
   "outputs": [
    {
     "name": "stdout",
     "output_type": "stream",
     "text": [
      "-1.3922111911773332\n",
      "-0.8350875293671394\n",
      "-0.7098340945745987\n",
      "-0.7034834042362847\n",
      "-0.703467422599462\n",
      "-0.7034674224983917\n",
      "-0.7034674224983917\n",
      "-0.7034674224983917\n",
      "-0.7034674224983917\n",
      "-0.7034674224983917\n"
     ]
    }
   ],
   "source": [
    "x = 1\n",
    "for i in range(10):\n",
    "    x = f1(x)\n",
    "    print(x)"
   ]
  },
  {
   "cell_type": "code",
   "execution_count": 31,
   "metadata": {},
   "outputs": [
    {
     "name": "stdout",
     "output_type": "stream",
     "text": [
      "0.6839397205857212\n",
      "0.5774544771544498\n",
      "0.5672297377301171\n",
      "0.5671432965302959\n",
      "0.567143290409784\n",
      "0.5671432904097838\n",
      "0.5671432904097838\n",
      "0.5671432904097838\n",
      "0.5671432904097838\n",
      "0.5671432904097838\n"
     ]
    }
   ],
   "source": [
    "x = 1\n",
    "for i in range(10):\n",
    "    x = f2(x)\n",
    "    print(x)"
   ]
  },
  {
   "cell_type": "code",
   "execution_count": 32,
   "metadata": {},
   "outputs": [
    {
     "name": "stdout",
     "output_type": "stream",
     "text": [
      "1.6972068934358862\n",
      "1.7553795434500208\n",
      "1.75557949700258\n",
      "1.755579499261178\n",
      "1.755579499261178\n",
      "1.755579499261178\n",
      "1.755579499261178\n",
      "1.755579499261178\n",
      "1.755579499261178\n",
      "1.755579499261178\n"
     ]
    }
   ],
   "source": [
    "x = 1\n",
    "for i in range(10):\n",
    "    x = f3(x)\n",
    "    print(x)"
   ]
  },
  {
   "cell_type": "markdown",
   "metadata": {},
   "source": [
    "## Result\n",
    "- $x^2-e^x=0$ 根为 $-0.7034674224983917$\n",
    "- $xe^x-1=0$ 根为 $0.5671432904097838$\n",
    "- $\\lg x+x-2=0$ 根为 $1.755579499261178$"
   ]
  },
  {
   "cell_type": "markdown",
   "metadata": {},
   "source": [
    "# 编写一个割线法的程序，求解上述各方程\n",
    "- $x^2-e^x=0$\n",
    "- $xe^x-1=0$\n",
    "- $\\lg x+x-2=0$"
   ]
  },
  {
   "cell_type": "code",
   "execution_count": 33,
   "metadata": {},
   "outputs": [],
   "source": [
    "import math\n",
    "def f4(x1,x2):\n",
    "    if ((x1*x1-math.exp(x1))-(x2*x2-math.exp(x2)) == 0):\n",
    "        return x1\n",
    "    else:\n",
    "        return x1-(x1*x1-math.exp(x1))/((x1*x1-math.exp(x1))-(x2*x2-math.exp(x2)))*(x1-x2)\n",
    "\n",
    "def f5(x1,x2):\n",
    "    if ((x1*math.exp(x1)-1)-(x2*math.exp(x2)-1) == 0):\n",
    "        return x1\n",
    "    else:\n",
    "        return x1-(x1*math.exp(x1)-1)/((x1*math.exp(x1)-1)-(x2*math.exp(x2)-1))*(x1-x2)\n",
    "\n",
    "def f6(x1,x2):\n",
    "    if (x1 <= 0 or x2 <= 0):\n",
    "        return \"error\"\n",
    "    if ((math.log(x1)/math.log(10)+x1-2)-(math.log(x2)/math.log(10)+x2-2) == 0):\n",
    "        return x1\n",
    "    else:\n",
    "        return x1-(math.log(x1)/math.log(10)+x1-2)/((math.log(x1)/math.log(10)+x1-2)-(math.log(x2)/math.log(10)+x2-2))*(x1-x2)"
   ]
  },
  {
   "cell_type": "code",
   "execution_count": 34,
   "metadata": {},
   "outputs": [
    {
     "name": "stdout",
     "output_type": "stream",
     "text": [
      "-1.3922111911773332\n",
      "-0.20612751271406604\n",
      "-0.5778333714634147\n",
      "-0.7330842972939767\n",
      "-0.7019544393346077\n",
      "-0.7034498327184769\n",
      "-0.7034674330341212\n",
      "-0.7034674224983183\n",
      "-0.7034674224983917\n",
      "-0.7034674224983917\n"
     ]
    }
   ],
   "source": [
    "x1 = 1\n",
    "x2 = 0\n",
    "for i in range(10):\n",
    "    temp = x1\n",
    "    x1 = f4(x1,x2)\n",
    "    x2 = temp\n",
    "    print(x1)"
   ]
  },
  {
   "cell_type": "code",
   "execution_count": 35,
   "metadata": {},
   "outputs": [
    {
     "name": "stdout",
     "output_type": "stream",
     "text": [
      "0.36787944117144233\n",
      "0.5033143321329856\n",
      "0.5786158630519874\n",
      "0.5665323438586994\n",
      "0.5671375717285394\n",
      "0.5671432932720224\n",
      "0.5671432904097705\n",
      "0.5671432904097838\n",
      "0.5671432904097838\n",
      "0.5671432904097838\n"
     ]
    }
   ],
   "source": [
    "x1 = 1\n",
    "x2 = 0\n",
    "for i in range(10):\n",
    "    temp = x1\n",
    "    x1 = f5(x1,x2)\n",
    "    x2 = temp\n",
    "    print(x1)"
   ]
  },
  {
   "cell_type": "code",
   "execution_count": null,
   "metadata": {},
   "outputs": [],
   "source": [
    "x1 = 1\n",
    "x2 = 0.5\n",
    "for i in range(10):\n",
    "    temp = x1\n",
    "    x1 = f6(x1,x2)\n",
    "    x2 = temp\n",
    "    print(x1)"
   ]
  },
  {
   "cell_type": "code",
   "execution_count": null,
   "metadata": {},
   "outputs": [],
   "source": []
  }
 ],
 "metadata": {
  "kernelspec": {
   "display_name": "Python 3",
   "language": "python",
   "name": "python3"
  },
  "language_info": {
   "codemirror_mode": {
    "name": "ipython",
    "version": 3
   },
   "file_extension": ".py",
   "mimetype": "text/x-python",
   "name": "python",
   "nbconvert_exporter": "python",
   "pygments_lexer": "ipython3",
   "version": "3.9.2+"
  }
 },
 "nbformat": 4,
 "nbformat_minor": 2
}
