{
 "cells": [
  {
   "cell_type": "markdown",
   "metadata": {},
   "source": [
    "# Exp 2"
   ]
  },
  {
   "cell_type": "markdown",
   "metadata": {},
   "source": [
    "### 06219109 孙寒石"
   ]
  },
  {
   "cell_type": "markdown",
   "metadata": {},
   "source": [
    "### 编写用追赶法解三对角线性方程的程序，并解下列方程组：\n",
    "$Ax=b$，其中\n",
    "$$A_{10\\times 10}=\\left[ \\matrix{-4 & 1 &&&&\\\\1 & -4 & 1 &&&\\\\&1 & -4& 1 &&\\\\&& \\ddots &\\ddots &\\ddots & \\\\&&& 1&-4&1\\\\ &&&& 1& -4} \\right] ,\\qquad b=\\left[ \\matrix{-27\\\\ -15\\\\ -15\\\\ \\vdots \\\\ -15\\\\ -15} \\right]$$"
   ]
  },
  {
   "cell_type": "code",
   "execution_count": 1,
   "metadata": {},
   "outputs": [],
   "source": [
    "import numpy as np"
   ]
  },
  {
   "cell_type": "code",
   "execution_count": 2,
   "metadata": {},
   "outputs": [],
   "source": [
    "# 追赶法求三对角线性方程组 \n",
    "# a 为主对角线元素，bb，c分别为次对角线元素，x为解\n",
    "def solution(A,b):\n",
    "    n = A.shape[0]\n",
    "    a = np.array([])\n",
    "    bb = np.array([])\n",
    "    c = np.array([])\n",
    "    \n",
    "    a = np.append(a,A[0,0])\n",
    "    bb = np.append(bb,0)\n",
    "    c = np.append(c,A[0,1])\n",
    "    for i in range(n-2):\n",
    "        a = np.append(a,A[i+1,i+1])\n",
    "        bb = np.append(bb,A[i+1,i])\n",
    "        c = np.append(c,A[i+1,i+2])\n",
    "    a = np.append(a,A[n-1,n-1])\n",
    "    bb = np.append(bb,A[n-1,n-2])\n",
    "    c = np.append(c,0)\n",
    "    \n",
    "    l = np.array([])\n",
    "    beta = np.array([])\n",
    "    y = np.array([])\n",
    "    beta = np.append(beta,a[0])\n",
    "    y = np.append(y,b[0])\n",
    "    l = np.append(l,0)\n",
    "    for i in range(n-1):\n",
    "        l = np.append(l,bb[i+1]/beta[i])\n",
    "        beta = np.append(beta,a[i+1]-l[i+1]*c[i])\n",
    "        y = np.append(y,b[i+1]-l[i+1]*y[i])\n",
    "    \n",
    "    x = np.array([])\n",
    "    for i in range(n):\n",
    "        x = np.append(x,0)\n",
    "    \n",
    "    x[n-1] = y[n-1]/beta[n-1]\n",
    "    for i in range(n-1):\n",
    "        x[n-2-i] = (y[n-2-i] - c[n-2-i]*x[n-2-i+1])/beta[n-2-i]\n",
    "    return x"
   ]
  },
  {
   "cell_type": "code",
   "execution_count": 3,
   "metadata": {},
   "outputs": [],
   "source": [
    "A = np.array([[-4,1,0,0,0,0,0,0,0,0],\n",
    "              [1,-4,1,0,0,0,0,0,0,0],\n",
    "              [0,1,-4,1,0,0,0,0,0,0],\n",
    "              [0,0,1,-4,1,0,0,0,0,0],\n",
    "              [0,0,0,1,-4,1,0,0,0,0],\n",
    "              [0,0,0,0,1,-4,1,0,0,0],\n",
    "              [0,0,0,0,0,1,-4,1,0,0],\n",
    "              [0,0,0,0,0,0,1,-4,1,0],\n",
    "              [0,0,0,0,0,0,0,1,-4,1],\n",
    "              [0,0,0,0,0,0,0,0,1,-4]])"
   ]
  },
  {
   "cell_type": "code",
   "execution_count": 4,
   "metadata": {},
   "outputs": [
    {
     "data": {
      "text/plain": [
       "(10, 10)"
      ]
     },
     "execution_count": 4,
     "metadata": {},
     "output_type": "execute_result"
    }
   ],
   "source": [
    "A.shape"
   ]
  },
  {
   "cell_type": "code",
   "execution_count": 5,
   "metadata": {
    "scrolled": true
   },
   "outputs": [
    {
     "data": {
      "text/plain": [
       "array([[-4,  1,  0,  0,  0,  0,  0,  0,  0,  0],\n",
       "       [ 1, -4,  1,  0,  0,  0,  0,  0,  0,  0],\n",
       "       [ 0,  1, -4,  1,  0,  0,  0,  0,  0,  0],\n",
       "       [ 0,  0,  1, -4,  1,  0,  0,  0,  0,  0],\n",
       "       [ 0,  0,  0,  1, -4,  1,  0,  0,  0,  0],\n",
       "       [ 0,  0,  0,  0,  1, -4,  1,  0,  0,  0],\n",
       "       [ 0,  0,  0,  0,  0,  1, -4,  1,  0,  0],\n",
       "       [ 0,  0,  0,  0,  0,  0,  1, -4,  1,  0],\n",
       "       [ 0,  0,  0,  0,  0,  0,  0,  1, -4,  1],\n",
       "       [ 0,  0,  0,  0,  0,  0,  0,  0,  1, -4]])"
      ]
     },
     "execution_count": 5,
     "metadata": {},
     "output_type": "execute_result"
    }
   ],
   "source": [
    "A"
   ]
  },
  {
   "cell_type": "code",
   "execution_count": 6,
   "metadata": {},
   "outputs": [],
   "source": [
    "b = np.array([-27,-15,-15,-15,-15,-15,-15,-15,-15,-15])"
   ]
  },
  {
   "cell_type": "code",
   "execution_count": 7,
   "metadata": {},
   "outputs": [
    {
     "data": {
      "text/plain": [
       "(10,)"
      ]
     },
     "execution_count": 7,
     "metadata": {},
     "output_type": "execute_result"
    }
   ],
   "source": [
    "b.shape"
   ]
  },
  {
   "cell_type": "code",
   "execution_count": 8,
   "metadata": {},
   "outputs": [
    {
     "data": {
      "text/plain": [
       "array([-27, -15, -15, -15, -15, -15, -15, -15, -15, -15])"
      ]
     },
     "execution_count": 8,
     "metadata": {},
     "output_type": "execute_result"
    }
   ],
   "source": [
    "b"
   ]
  },
  {
   "cell_type": "code",
   "execution_count": 9,
   "metadata": {},
   "outputs": [],
   "source": [
    "x = solution(A,b)"
   ]
  },
  {
   "cell_type": "code",
   "execution_count": 10,
   "metadata": {},
   "outputs": [
    {
     "data": {
      "text/plain": [
       "array([8.70575808, 7.82303234, 7.58637127, 7.52245276, 7.50343976,\n",
       "       7.4913063 , 7.46178542, 7.35583538, 6.9615561 , 5.49038903])"
      ]
     },
     "execution_count": 10,
     "metadata": {},
     "output_type": "execute_result"
    }
   ],
   "source": [
    "x"
   ]
  },
  {
   "cell_type": "markdown",
   "metadata": {},
   "source": [
    "## Conclusion"
   ]
  },
  {
   "cell_type": "markdown",
   "metadata": {},
   "source": [
    "#### 所以解得 $$x=\\left[ \\matrix{8.70575808\\\\ 7.82303234\\\\ 7.58637127\\\\ 7.52245276\\\\ 7.50343976\\\\\n",
    "       7.4913063 \\\\ 7.46178542\\\\ 7.35583538\\\\ 6.9615561\\\\ 5.49038903} \\right]$$"
   ]
  }
 ],
 "metadata": {
  "kernelspec": {
   "display_name": "Python 3",
   "language": "python",
   "name": "python3"
  },
  "language_info": {
   "codemirror_mode": {
    "name": "ipython",
    "version": 3
   },
   "file_extension": ".py",
   "mimetype": "text/x-python",
   "name": "python",
   "nbconvert_exporter": "python",
   "pygments_lexer": "ipython3",
   "version": "3.6.12"
  }
 },
 "nbformat": 4,
 "nbformat_minor": 2
}
