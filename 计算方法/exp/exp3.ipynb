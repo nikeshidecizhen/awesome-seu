{
 "cells": [
  {
   "cell_type": "markdown",
   "metadata": {},
   "source": [
    "## 计算方法Exp3"
   ]
  },
  {
   "cell_type": "markdown",
   "metadata": {},
   "source": [
    "#### 06219109 孙寒石"
   ]
  },
  {
   "cell_type": "markdown",
   "metadata": {},
   "source": [
    "### 用龙贝格方法计算：\n",
    "$$\\int_0^{\\frac{\\pi}{2}}\\sin(2\\cos x)\\sin^2 xdx$$"
   ]
  },
  {
   "cell_type": "code",
   "execution_count": 1,
   "metadata": {},
   "outputs": [],
   "source": [
    "import math"
   ]
  },
  {
   "cell_type": "code",
   "execution_count": 2,
   "metadata": {},
   "outputs": [],
   "source": [
    "def f(x):\n",
    "    return math.sin(2*math.cos(x))*math.sin(x)*math.sin(x)"
   ]
  },
  {
   "cell_type": "code",
   "execution_count": 3,
   "metadata": {},
   "outputs": [],
   "source": [
    "def Romberg(a,b,f,eps):\n",
    "    n = 1\n",
    "    h = b - a\n",
    "    T1 = (b-a)/2*(f(a)+f(b))\n",
    "    while(1):\n",
    "        temp = 0\n",
    "        for i in range(n):\n",
    "            x=a+i*h+h/2\n",
    "            temp=temp+f(x)\n",
    "        T2=(T1+temp*h)/2\n",
    "        if(abs(T2-T1)<eps):\n",
    "            return T2\n",
    "        S2=T2+(T2-T1)/3\n",
    "        if(n==1):\n",
    "            T1=T2\n",
    "            S1=S2\n",
    "            h=h/2\n",
    "            n=n*2\n",
    "            continue\n",
    "        C2=S2+(S2-S1)/15\n",
    "        if(n==2):\n",
    "            C1=C2\n",
    "            T1=T2\n",
    "            S1=S2\n",
    "            h=h/2\n",
    "            n=n*2\n",
    "            continue\n",
    "        R2=C2+(C2-C1)/63\n",
    "        if (n==4):\n",
    "            R1=R2\n",
    "            C1=C2\n",
    "            T1=T2\n",
    "            S1=S2\n",
    "            h=h/2\n",
    "            n=n*2\n",
    "            continue\n",
    "        if(abs(R2-R1)<eps):\n",
    "            return R2\n",
    "        R1=R2\n",
    "        C1=C2\n",
    "        T1=T2\n",
    "        S1=S2\n",
    "        h=h/2\n",
    "        n=n*2\n",
    "        "
   ]
  },
  {
   "cell_type": "code",
   "execution_count": 4,
   "metadata": {},
   "outputs": [
    {
     "name": "stdout",
     "output_type": "stream",
     "text": [
      "0.5079670457310737\n"
     ]
    }
   ],
   "source": [
    "pi = 3.141592653589793\n",
    "eps = 5e-6\n",
    "print(Romberg(0,pi/2,f,eps))"
   ]
  },
  {
   "cell_type": "markdown",
   "metadata": {},
   "source": [
    "#### 所以最后的结果为 $$\\int_0^{\\frac{\\pi}{2}}\\sin(2\\cos x)\\sin^2 xdx=0.5079670457310737$$"
   ]
  }
 ],
 "metadata": {
  "kernelspec": {
   "display_name": "Python 3",
   "language": "python",
   "name": "python3"
  },
  "language_info": {
   "codemirror_mode": {
    "name": "ipython",
    "version": 3
   },
   "file_extension": ".py",
   "mimetype": "text/x-python",
   "name": "python",
   "nbconvert_exporter": "python",
   "pygments_lexer": "ipython3",
   "version": "3.8.3"
  }
 },
 "nbformat": 4,
 "nbformat_minor": 2
}
